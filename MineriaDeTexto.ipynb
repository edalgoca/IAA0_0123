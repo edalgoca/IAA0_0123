{
  "nbformat": 4,
  "nbformat_minor": 0,
  "metadata": {
    "colab": {
      "provenance": []
    },
    "kernelspec": {
      "name": "python3",
      "display_name": "Python 3"
    },
    "language_info": {
      "name": "python"
    }
  },
  "cells": [
    {
      "cell_type": "code",
      "execution_count": 13,
      "metadata": {
        "colab": {
          "base_uri": "https://localhost:8080/"
        },
        "id": "Gq_Sitmh0SSI",
        "outputId": "9eef9180-f918-4383-ab46-1ab9a6a8f8e9"
      },
      "outputs": [
        {
          "output_type": "stream",
          "name": "stdout",
          "text": [
            "Texto de prueba: Internet tiene mucha información\n",
            "Etiqueta predicha: positivo\n"
          ]
        }
      ],
      "source": [
        "#se importan las librerias\n",
        "import pandas as pd\n",
        "from sklearn.feature_extraction.text import CountVectorizer\n",
        "from sklearn.naive_bayes import MultinomialNB\n",
        "\n",
        "#Sew cargan los datos desde el archivo CSV\n",
        "data = pd.read_csv('sample_data/MineriaTexto.csv')\n",
        "\n",
        "#se extraen textos (sobre intenernet) y etiquetas(positivo o negativo) del dataframe \n",
        "textos_entrenamiento = data['Texto'].tolist()\n",
        "etiquetas_entrenamiento = data['Etiqueta'].tolist()\n",
        "\n",
        "#Preprocesamiento de los textos de entrenamiento\n",
        "vectorizador = CountVectorizer()\n",
        "vectores_entrenamiento = vectorizador.fit_transform(textos_entrenamiento)\n",
        "\n",
        "#se entrena el clasificador Naive Bayes\n",
        "clasificador = MultinomialNB()\n",
        "clasificador.fit(vectores_entrenamiento, etiquetas_entrenamiento)\n",
        "\n",
        "#Datos de prueba, escriba una frase de internet\n",
        "#Internet tiene mucha información\n",
        "#Internet distra a la juventud\n",
        "texto_prueba = \"Internet tiene mucha información\"\n",
        "\n",
        "#Preprocesamiento del texto de prueba\n",
        "vector_prueba = vectorizador.transform([texto_prueba])\n",
        "\n",
        "#Se clasifica el texto de prueba\n",
        "etiqueta_prueba = clasificador.predict(vector_prueba)\n",
        "\n",
        "# Resultado\n",
        "print(\"Texto de prueba:\", texto_prueba)\n",
        "print(\"Etiqueta predicha:\", etiqueta_prueba[0])"
      ]
    },
    {
      "cell_type": "code",
      "source": [
        "#Se entrena el algoritmo con frases de internet positivas y negativas para que aprenda,\n",
        "#luego se le proporciona un texto sobre internet para que el algoritmo valide si es una frase positiva o negativa"
      ],
      "metadata": {
        "id": "uCNeevRT7y7c"
      },
      "execution_count": null,
      "outputs": []
    }
  ]
}