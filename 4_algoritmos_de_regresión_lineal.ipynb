{
  "nbformat": 4,
  "nbformat_minor": 0,
  "metadata": {
    "colab": {
      "provenance": []
    },
    "kernelspec": {
      "name": "python3",
      "display_name": "Python 3"
    },
    "language_info": {
      "name": "python"
    }
  },
  "cells": [
    {
      "cell_type": "markdown",
      "source": [
        "En que consiste el algoritmo: El algoritmo de regresión lineal es un método utilizado en el aprendizaje automático y la estadística para modelar la relación entre una variable dependiente y una o más variables independientes. Su objetivo es encontrar la mejor línea recta que se ajuste a los datos y pueda utilizarse para predecir valores de la variable dependiente.\n",
        "\n",
        "La regresión lineal se basa en la suposición de que existe una relación lineal entre las variables independientes (también llamadas variables predictoras o características) y la variable dependiente (la variable que se desea predecir). El algoritmo busca estimar los coeficientes de la ecuación de una línea recta, conocidos como coeficientes de regresión, que minimicen la diferencia entre los valores predichos y los valores reales de la variable dependiente."
      ],
      "metadata": {
        "id": "z6CXPkhUC657"
      }
    },
    {
      "cell_type": "code",
      "source": [
        "from sklearn.datasets import fetch_california_housing\n",
        "from sklearn.model_selection import train_test_split\n",
        "from sklearn.linear_model import LinearRegression\n",
        "from sklearn.metrics import mean_squared_error, r2_score\n",
        "\n",
        "\n",
        "california_housing = fetch_california_housing(as_frame=True)\n",
        "X = california_housing.data\n",
        "y = california_housing.target\n",
        "\n",
        "\n",
        "X_train, X_test, y_train, y_test = train_test_split(X, y, test_size=0.2, random_state=42)\n",
        "\n",
        "\n",
        "model = LinearRegression()\n",
        "\n",
        "\n",
        "model.fit(X_train, y_train)\n",
        "\n",
        "\n",
        "y_pred = model.predict(X_test)\n",
        "\n",
        "\n",
        "mse = mean_squared_error(y_test, y_pred)\n",
        "r2 = r2_score(y_test, y_pred)\n",
        "\n",
        "\n",
        "print(\"Error cuadrático medio (MSE):\", mse)\n",
        "print(\"Coeficiente de determinación (R2):\", r2)\n",
        "\n"
      ],
      "metadata": {
        "colab": {
          "base_uri": "https://localhost:8080/"
        },
        "id": "Z34yZxAOKSa_",
        "outputId": "bc1b25ac-2914-487d-c1ed-cabc233558df"
      },
      "execution_count": null,
      "outputs": [
        {
          "output_type": "stream",
          "name": "stdout",
          "text": [
            "Error cuadrático medio (MSE): 0.5558915986952444\n",
            "Coeficiente de determinación (R2): 0.5757877060324508\n"
          ]
        }
      ]
    },
    {
      "cell_type": "markdown",
      "source": [
        "Explicacion de resultado: Estos resultados son métricas utilizadas para evaluar el rendimiento de un modelo de regresión lineal en el conjunto de datos de precios de viviendas de California.\n",
        "\n",
        "El Error cuadrático medio (MSE) es una medida que calcula el promedio de los errores al cuadrado entre los valores predichos y los valores reales de la variable objetivo (precios de viviendas). Un valor más bajo de MSE indica que el modelo tiene un mejor rendimiento, ya que los errores son menores. En este caso, el MSE obtenido es de aproximadamente 0.5558915986952444.\n",
        "\n",
        "El Coeficiente de determinación (R2) es una medida que indica la proporción de la varianza en la variable objetivo que puede ser explicada por el modelo. Toma valores entre 0 y 1, donde 1 indica que el modelo explica toda la varianza y 0 indica que el modelo no explica ninguna varianza. En este caso, el valor del coeficiente de determinación (R2) obtenido es de aproximadamente 0.5757877060324508, lo que indica que el modelo es capaz de explicar aproximadamente el 57.58% de la varianza en los precios de viviendas."
      ],
      "metadata": {
        "id": "gft_fiUXC24v"
      }
    }
  ]
}