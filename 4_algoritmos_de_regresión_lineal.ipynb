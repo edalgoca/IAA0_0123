{
  "nbformat": 4,
  "nbformat_minor": 0,
  "metadata": {
    "colab": {
      "private_outputs": true,
      "provenance": []
    },
    "kernelspec": {
      "name": "python3",
      "display_name": "Python 3"
    },
    "language_info": {
      "name": "python"
    }
  },
  "cells": [
    {
      "cell_type": "markdown",
      "source": [
        "**4. Algoritmos de regresión lineal**"
      ],
      "metadata": {
        "id": "c0lHjaKre22b"
      }
    },
    {
      "cell_type": "markdown",
      "source": [
        "**En que Consiste el Algoritmo:** Se utiliza para el analisis de datos que predice los valores \n",
        "de los dato que son desconocidos, utilizando otros valores\n",
        "de datos selacionados y conocidos.\n",
        "Hace un modelo matematico ala variable desconocida y la variable\n",
        "conocida como una ecuacion lineal.   "
      ],
      "metadata": {
        "id": "hW0MEv97fHmC"
      }
    },
    {
      "cell_type": "markdown",
      "source": [
        "**Explicación de resultados:** Los punto del grafico bidimencional la linea recta minimisa la suma\n",
        "redidual, se calculan los coeficientes de [938.23786125],\n",
        "y el calculo residual de cuadrados y el coeficiente de determinación.\n",
        "con un Error cuadrático medio: 2548.07\n",
        "y Coeficiente de determinación: 0,47."
      ],
      "metadata": {
        "id": "1VFjOhkPiI2K"
      }
    },
    {
      "cell_type": "markdown",
      "source": [
        "**DataSet:**  sklearn.datasets.load_diabetes"
      ],
      "metadata": {
        "id": "Bq7brKUbj3RS"
      }
    },
    {
      "cell_type": "code",
      "source": [
        "# Code source: Jaques Grobler\n",
        "# License: BSD 3 clause\n",
        "\n",
        "import matplotlib.pyplot as plt\n",
        "import numpy as np\n",
        "from sklearn import datasets, linear_model\n",
        "from sklearn.metrics import mean_squared_error, r2_score\n",
        "\n",
        "# Load the diabetes dataset\n",
        "diabetes_X, diabetes_y = datasets.load_diabetes(return_X_y=True)\n",
        "\n",
        "# Use only one feature\n",
        "diabetes_X = diabetes_X[:, np.newaxis, 2]\n",
        "\n",
        "# Split the data into training/testing sets\n",
        "diabetes_X_train = diabetes_X[:-20]\n",
        "diabetes_X_test = diabetes_X[-20:]\n",
        "\n",
        "# Split the targets into training/testing sets\n",
        "diabetes_y_train = diabetes_y[:-20]\n",
        "diabetes_y_test = diabetes_y[-20:]\n",
        "\n",
        "# Create linear regression object\n",
        "regr = linear_model.LinearRegression()\n",
        "\n",
        "# Train the model using the training sets\n",
        "regr.fit(diabetes_X_train, diabetes_y_train)\n",
        "\n",
        "# Make predictions using the testing set\n",
        "diabetes_y_pred = regr.predict(diabetes_X_test)\n",
        "\n",
        "# The coefficients\n",
        "print(\"Coefficients: \\n\", regr.coef_)\n",
        "# The mean squared error\n",
        "print(\"Mean squared error: %.2f\" % mean_squared_error(diabetes_y_test, diabetes_y_pred))\n",
        "# The coefficient of determination: 1 is perfect prediction\n",
        "print(\"Coefficient of determination: %.2f\" % r2_score(diabetes_y_test, diabetes_y_pred))\n",
        "\n",
        "# Plot outputs\n",
        "plt.scatter(diabetes_X_test, diabetes_y_test, color=\"black\")\n",
        "plt.plot(diabetes_X_test, diabetes_y_pred, color=\"blue\", linewidth=3)\n",
        "\n",
        "plt.xticks(())\n",
        "plt.yticks(())\n",
        "\n",
        "plt.show()"
      ],
      "metadata": {
        "id": "FIc4VK2ryNiz"
      },
      "execution_count": null,
      "outputs": []
    }
  ]
}