{
  "nbformat": 4,
  "nbformat_minor": 0,
  "metadata": {
    "colab": {
      "provenance": []
    },
    "kernelspec": {
      "name": "python3",
      "display_name": "Python 3"
    },
    "language_info": {
      "name": "python"
    }
  },
  "cells": [
    {
      "cell_type": "markdown",
      "source": [
        "En que consiste el algoritmo: Los algoritmos de regresión no lineal son métodos utilizados en el aprendizaje automático para modelar relaciones no lineales entre variables independientes (características) y una variable dependiente (objetivo). A diferencia de la regresión lineal, que asume una relación lineal entre las variables, la regresión no lineal permite modelar relaciones más complejas y flexibles.\n",
        "\n",
        "En la regresión no lineal, el objetivo es encontrar una función matemática que pueda representar de manera efectiva la relación no lineal entre las variables. Esta función puede tener una forma más compleja, como polinomios de grado superior, funciones exponenciales, logarítmicas, trigonométricas u otras formas no lineales."
      ],
      "metadata": {
        "id": "OKXVqp0uD-Pc"
      }
    },
    {
      "cell_type": "code",
      "source": [
        "import numpy as np\n",
        "from sklearn.datasets import fetch_california_housing\n",
        "from sklearn.model_selection import train_test_split\n",
        "from sklearn.linear_model import LinearRegression\n",
        "from sklearn.preprocessing import PolynomialFeatures\n",
        "from sklearn.metrics import mean_squared_error, r2_score\n",
        "\n",
        "\n",
        "housing = fetch_california_housing(as_frame=True)\n",
        "X = housing.data\n",
        "y = housing.target\n",
        "\n",
        "\n",
        "X_train, X_test, y_train, y_test = train_test_split(X, y, test_size=0.2, random_state=42)\n",
        "\n",
        "\n",
        "poly_features = PolynomialFeatures(degree=2)\n",
        "X_train_poly = poly_features.fit_transform(X_train)\n",
        "X_test_poly = poly_features.transform(X_test)\n",
        "\n",
        "\n",
        "model = LinearRegression()\n",
        "model.fit(X_train_poly, y_train)\n",
        "\n",
        "\n",
        "y_train_pred = model.predict(X_train_poly)\n",
        "y_test_pred = model.predict(X_test_poly)\n",
        "\n",
        "\n",
        "train_rmse = np.sqrt(mean_squared_error(y_train, y_train_pred))\n",
        "test_rmse = np.sqrt(mean_squared_error(y_test, y_test_pred))\n",
        "train_r2 = r2_score(y_train, y_train_pred)\n",
        "test_r2 = r2_score(y_test, y_test_pred)\n",
        "\n",
        "\n",
        "print(\"Rendimiento del modelo de regresión polinómica:\")\n",
        "print(\"RMSE (entrenamiento):\", train_rmse)\n",
        "print(\"RMSE (prueba):\", test_rmse)\n",
        "print(\"R^2 (entrenamiento):\", train_r2)\n",
        "print(\"R^2 (prueba):\", test_r2)\n"
      ],
      "metadata": {
        "colab": {
          "base_uri": "https://localhost:8080/"
        },
        "id": "bir0KvfpNAZV",
        "outputId": "a7841749-ad4f-4b35-b35c-dd555ad1da8c"
      },
      "execution_count": null,
      "outputs": [
        {
          "output_type": "stream",
          "name": "stdout",
          "text": [
            "Rendimiento del modelo de regresión polinómica:\n",
            "RMSE (entrenamiento): 0.6486344233521347\n",
            "RMSE (prueba): 0.6813967463413494\n",
            "R^2 (entrenamiento): 0.6852681982344948\n",
            "R^2 (prueba): 0.6456819713278688\n"
          ]
        }
      ]
    },
    {
      "cell_type": "markdown",
      "source": [
        "Explicacion de resultado:\n",
        "RMSE (Root Mean Squared Error):\n",
        "El RMSE (Error Cuadrático Medio) es una medida que calcula la raíz cuadrada del promedio de los errores al cuadrado entre los valores predichos y los valores reales de la variable objetivo. En este caso, obtuvimos un RMSE de aproximadamente 0.6486 para el conjunto de entrenamiento y 0.6814 para el conjunto de prueba. Estos valores indican que, en promedio, las predicciones del modelo se desvían alrededor de 0.6486 y 0.6814 unidades de la variable objetivo de los valores reales, respectivamente. Un RMSE más bajo indica un mejor rendimiento del modelo, ya que implica una menor diferencia entre las predicciones y los valores reales.\n",
        "\n",
        "R^2 (Coeficiente de Determinación):\n",
        "El coeficiente de determinación, también conocido como R^2, es una medida que indica la proporción de la varianza en la variable objetivo que puede ser explicada por el modelo. Toma valores entre 0 y 1, donde 1 indica que el modelo puede explicar toda la varianza y 0 indica que el modelo no puede explicar ninguna varianza. En este caso, obtuvimos un R^2 de aproximadamente 0.6853 para el conjunto de entrenamiento y 0.6457 para el conjunto de prueba. Esto significa que el modelo de regresión polinómica es capaz de explicar alrededor del 68.53% y 64.57% de la variabilidad observada en los precios de viviendas en los conjuntos de entrenamiento y prueba, respectivamente. Un valor más alto de R^2 indica un mejor ajuste del modelo a los datos.\n",
        "\n",
        "En resumen, los resultados indican que el modelo de regresión polinómica tiene un rendimiento moderado en la predicción de los precios de viviendas en el conjunto de datos de California. El RMSE nos proporciona una medida de la magnitud promedio de los errores de predicción, mientras que el R^2 nos indica la proporción de la variabilidad explicada por el modelo"
      ],
      "metadata": {
        "id": "HyW30faxEwcv"
      }
    }
  ]
}