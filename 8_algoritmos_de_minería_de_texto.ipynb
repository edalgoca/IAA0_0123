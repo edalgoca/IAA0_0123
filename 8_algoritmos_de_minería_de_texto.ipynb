{
  "nbformat": 4,
  "nbformat_minor": 0,
  "metadata": {
    "colab": {
      "provenance": []
    },
    "kernelspec": {
      "name": "python3",
      "display_name": "Python 3"
    },
    "language_info": {
      "name": "python"
    }
  },
  "cells": [
    {
      "cell_type": "markdown",
      "source": [
        "En que consisten los algoritmos de minería de texto: Son utilizados para extraer información valiosa y conocimiento significativo de grandes volúmenes de texto no estructurado. Estos algoritmos permiten analizar y comprender documentos de texto, identificar patrones, relaciones y tendencias, así como realizar tareas como clasificación de texto, agrupamiento, extracción de información y análisis de sentimientos."
      ],
      "metadata": {
        "id": "rqZBrTcpCgko"
      }
    },
    {
      "cell_type": "code",
      "source": [
        "import nltk\n",
        "from nltk.sentiment import SentimentIntensityAnalyzer\n",
        "import pandas as pd\n",
        "\n",
        "\n",
        "nltk.download('vader_lexicon')\n",
        "\n",
        "sid = SentimentIntensityAnalyzer()\n",
        "\n",
        "data = pd.DataFrame({'text': ['I love this movie!', 'This book is amazing.', 'I hate Mondays.']})\n",
        "\n",
        "data['sentiment_score'] = data['text'].apply(lambda x: sid.polarity_scores(x)['compound'])\n",
        "\n",
        "print(data)\n"
      ],
      "metadata": {
        "colab": {
          "base_uri": "https://localhost:8080/"
        },
        "id": "qBMbJ4oFTfzu",
        "outputId": "d77a5568-7474-438f-9e3a-f017c8c86c32"
      },
      "execution_count": null,
      "outputs": [
        {
          "output_type": "stream",
          "name": "stdout",
          "text": [
            "                    text  sentiment_score\n",
            "0     I love this movie!           0.6696\n",
            "1  This book is amazing.           0.5859\n",
            "2        I hate Mondays.          -0.5719\n"
          ]
        },
        {
          "output_type": "stream",
          "name": "stderr",
          "text": [
            "[nltk_data] Downloading package vader_lexicon to /root/nltk_data...\n",
            "[nltk_data]   Package vader_lexicon is already up-to-date!\n"
          ]
        }
      ]
    },
    {
      "cell_type": "markdown",
      "source": [
        "Resultados: Se calcula el puntaje de sentimiento para cada texto en el conjunto de datos utilizando la función apply y el método polarity_scores del analizador de sentimiento. El puntaje de sentimiento se calcula mediante el análisis del contenido del texto y proporciona una medida de la polaridad del sentimiento.\n",
        "\n",
        "El resultado impreso muestra el texto original y el puntaje de sentimiento correspondiente para cada entrada del conjunto de datos. El puntaje de sentimiento es un valor numérico que indica la polaridad del sentimiento, donde un valor mayor que cero indica un sentimiento positivo, un valor menor que cero indica un sentimiento negativo y un valor cercano a cero indica un sentimiento neutral."
      ],
      "metadata": {
        "id": "NCsI0EycTws7"
      }
    }
  ]
}