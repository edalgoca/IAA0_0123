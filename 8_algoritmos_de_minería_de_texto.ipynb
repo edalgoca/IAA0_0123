{
  "nbformat": 4,
  "nbformat_minor": 0,
  "metadata": {
    "colab": {
      "provenance": [],
      "toc_visible": true
    },
    "kernelspec": {
      "name": "python3",
      "display_name": "Python 3"
    },
    "language_info": {
      "name": "python"
    }
  },
  "cells": [
    {
      "cell_type": "markdown",
      "source": [
        "**8. algoritmos_de_minería de texto**\n",
        "\n",
        "\n"
      ],
      "metadata": {
        "id": "h39U3zxmLS2l"
      }
    },
    {
      "cell_type": "markdown",
      "source": [
        "**En que Consiste el Algoritmo:** En Extraer información y conocimiento útiles a partir de grandes volúmenes de texto no estructurado. Su objetivo principal es descubrir patrones, tendencias, relaciones y significados dentro de los datos de texto.\n",
        "\n",
        "\n",
        "\n",
        "\n"
      ],
      "metadata": {
        "id": "x9eynxddMtdF"
      }
    },
    {
      "cell_type": "markdown",
      "source": [
        "**Explicación de resultados:**  \n",
        "- Utilizando el dataset \"20 Newsgroups\" que contiene una colección de documentos clasificados en 20 categorías diferentes. Luego, aplicamos el algoritmo  (LatentDirichletAllocation) para encontrar los temas latentes en los documentos.\n",
        "\n",
        "- Tambien se utiliza el vectorizador (TfidfVectorizer) para preprocesar y representar los documentos en una matriz de características numéricas. \n",
        "\n",
        "- Luego, con el modelo LDA se extraen las palabras clave más relevantes para cada tema.\n",
        "\n",
        "- Al final se imprimen las palabras claves de cada tema para interpretar los resultados."
      ],
      "metadata": {
        "id": "-CIG4AHstmiI"
      }
    },
    {
      "cell_type": "markdown",
      "source": [
        "**DataSet:** fetch_20newsgroups\n"
      ],
      "metadata": {
        "id": "hiIZZNh4tmM5"
      }
    },
    {
      "cell_type": "code",
      "source": [
        "from sklearn.feature_extraction.text import TfidfVectorizer\n",
        "from sklearn.decomposition import LatentDirichletAllocation\n",
        "from sklearn.datasets import fetch_20newsgroups\n",
        "\n",
        "# Paso 1: Cargar el dataset de ejemplo\n",
        "dataset = fetch_20newsgroups(subset='all', shuffle=True, random_state=42)\n",
        "\n",
        "# Paso 2: Preprocesamiento y representación\n",
        "vectorizer = TfidfVectorizer(max_features=1000, max_df=0.5, min_df=2, stop_words='english')\n",
        "X = vectorizer.fit_transform(dataset.data)\n",
        "\n",
        "# Paso 3: Análisis de texto (en este ejemplo, utilizaremos Latent Dirichlet Allocation/LDA)\n",
        "lda = LatentDirichletAllocation(n_components=20, random_state=42)\n",
        "lda.fit(X)\n",
        "\n",
        "# Paso 4: Interpretación de resultados\n",
        "feature_names = vectorizer.get_feature_names_out()\n",
        "\n",
        "for topic_idx, topic in enumerate(lda.components_):\n",
        "    print(\"Tema %d:\" % (topic_idx + 1))\n",
        "    print(\"Palabras clave:\", \", \".join([feature_names[i] for i in topic.argsort()[:-6:-1]]))\n",
        "    print(\"--------------\")\n"
      ],
      "metadata": {
        "colab": {
          "base_uri": "https://localhost:8080/"
        },
        "id": "KGGEYKLXuwuv",
        "outputId": "8b943382-449d-466f-c94f-e378e6e65f6a"
      },
      "execution_count": 1,
      "outputs": [
        {
          "output_type": "stream",
          "name": "stdout",
          "text": [
            "Tema 1:\n",
            "Palabras clave: card, monitor, video, apple, au\n",
            "--------------\n",
            "Tema 2:\n",
            "Palabras clave: car, com, hp, cars, engine\n",
            "--------------\n",
            "Tema 3:\n",
            "Palabras clave: key, clipper, netcom, com, chip\n",
            "--------------\n",
            "Tema 4:\n",
            "Palabras clave: com, stratus, fbi, ibm, article\n",
            "--------------\n",
            "Tema 5:\n",
            "Palabras clave: gun, people, com, guns, law\n",
            "--------------\n",
            "Tema 6:\n",
            "Palabras clave: ohio, cleveland, cwru, freenet, acs\n",
            "--------------\n",
            "Tema 7:\n",
            "Palabras clave: cmu, pitt, andrew, cs, pittsburgh\n",
            "--------------\n",
            "Tema 8:\n",
            "Palabras clave: god, jesus, christian, people, com\n",
            "--------------\n",
            "Tema 9:\n",
            "Palabras clave: thanks, mail, university, com, graphics\n",
            "--------------\n",
            "Tema 10:\n",
            "Palabras clave: apr, gmt, 93, 00, 1993\n",
            "--------------\n",
            "Tema 11:\n",
            "Palabras clave: uk, ac, harvard, ed, 44\n",
            "--------------\n",
            "Tema 12:\n",
            "Palabras clave: sale, offer, condition, cd, asking\n",
            "--------------\n",
            "Tema 13:\n",
            "Palabras clave: digex, __, access, ___, pat\n",
            "--------------\n",
            "Tema 14:\n",
            "Palabras clave: israel, israeli, jews, jewish, armenian\n",
            "--------------\n",
            "Tema 15:\n",
            "Palabras clave: space, com, nasa, like, just\n",
            "--------------\n",
            "Tema 16:\n",
            "Palabras clave: windows, file, window, dos, files\n",
            "--------------\n",
            "Tema 17:\n",
            "Palabras clave: drive, scsi, modem, mac, ide\n",
            "--------------\n",
            "Tema 18:\n",
            "Palabras clave: caltech, keith, sgi, sun, com\n",
            "--------------\n",
            "Tema 19:\n",
            "Palabras clave: uiuc, cso, illinois, rochester, bnr\n",
            "--------------\n",
            "Tema 20:\n",
            "Palabras clave: game, team, ca, games, year\n",
            "--------------\n"
          ]
        }
      ]
    }
  ]
}