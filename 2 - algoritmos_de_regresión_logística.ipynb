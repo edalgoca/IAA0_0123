{
  "nbformat": 4,
  "nbformat_minor": 0,
  "metadata": {
    "colab": {
      "private_outputs": true,
      "provenance": []
    },
    "kernelspec": {
      "name": "python3",
      "display_name": "Python 3"
    },
    "language_info": {
      "name": "python"
    }
  },
  "cells": [
    {
      "cell_type": "markdown",
      "source": [
        "**2. Algoritmos de regresión logística**"
      ],
      "metadata": {
        "id": "c0lHjaKre22b"
      }
    },
    {
      "cell_type": "markdown",
      "source": [
        "**En que Consiste el Algoritmo:**   En predecir la probabilidad de que una muestra pertenezca a una clase específica."
      ],
      "metadata": {
        "id": "hW0MEv97fHmC"
      }
    },
    {
      "cell_type": "markdown",
      "source": [
        "**Explicación de resultados:** Se Muestran los limites de decision de los clasificadores de regresion logistica con un 0.5 EPS (entrada, proceso y salida) del algoritmo en las dos primeras dimenciones del sepalo de iris, que son longitud y anchura."
      ],
      "metadata": {
        "id": "1VFjOhkPiI2K"
      }
    },
    {
      "cell_type": "markdown",
      "source": [
        "**DataSet:**  load_iris(*[, devuelve_X_y, como_fotograma])\n",
        "Conjunto de datos pequeños que no requiere descarga"
      ],
      "metadata": {
        "id": "Bq7brKUbj3RS"
      }
    },
    {
      "cell_type": "code",
      "source": [
        "import matplotlib.pyplot as plt\n",
        "from sklearn.linear_model import LogisticRegression\n",
        "from sklearn import datasets\n",
        "from sklearn.inspection import DecisionBoundaryDisplay\n",
        "\n",
        "iris = datasets.load_iris()\n",
        "X = iris.data[:, :2]\n",
        "Y = iris.target\n",
        "\n",
        "logreg = LogisticRegression(C=1e5)\n",
        "logreg.fit(X, Y)\n",
        "\n",
        "_, ax = plt.subplots(figsize=(4, 3))\n",
        "DecisionBoundaryDisplay.from_estimator(\n",
        "    logreg,\n",
        "    X,\n",
        "    cmap=plt.cm.Paired,\n",
        "    ax=ax,\n",
        "    response_method=\"predict\",\n",
        "    plot_method=\"pcolormesh\",\n",
        "    shading=\"auto\",\n",
        "    xlabel=\"Sepal length\",\n",
        "    ylabel=\"Sepal width\",\n",
        "    eps=0.5,\n",
        ")\n",
        "\n",
        "plt.scatter(X[:, 0], X[:, 1], c=Y, edgecolors=\"k\", cmap=plt.cm.Paired)\n",
        "\n",
        "\n",
        "plt.xticks(())\n",
        "plt.yticks(())\n",
        "\n",
        "plt.show()"
      ],
      "metadata": {
        "id": "2Ip-PXgamlhC"
      },
      "execution_count": null,
      "outputs": []
    }
  ]
}