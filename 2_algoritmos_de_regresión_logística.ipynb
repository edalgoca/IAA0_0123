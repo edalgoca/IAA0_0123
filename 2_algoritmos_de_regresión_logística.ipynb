{
  "nbformat": 4,
  "nbformat_minor": 0,
  "metadata": {
    "colab": {
      "provenance": []
    },
    "kernelspec": {
      "name": "python3",
      "display_name": "Python 3"
    },
    "language_info": {
      "name": "python"
    }
  },
  "cells": [
    {
      "cell_type": "markdown",
      "source": [
        "En que consiste el algoritmo: El algoritmo de regresión logística es un modelo estadístico utilizado para la clasificación binaria. Aunque su nombre incluye la palabra \"regresión\", en realidad se utiliza para la clasificación y no para la regresión en sí.\n",
        "\n",
        "El objetivo principal de la regresión logística es predecir la probabilidad de que una instancia pertenezca a una de las dos clases posibles. Para lograrlo, se utiliza una función logística (también conocida como función sigmoide) que mapea una combinación lineal de las variables de entrada a un valor entre 0 y 1."
      ],
      "metadata": {
        "id": "xSkzu9GT7Tiz"
      }
    },
    {
      "cell_type": "code",
      "source": [
        "import pandas as pd\n",
        "from sklearn.model_selection import train_test_split\n",
        "from sklearn.linear_model import LogisticRegression\n",
        "from sklearn.metrics import accuracy_score\n",
        "from sklearn.datasets import load_iris\n",
        "\n",
        "\n",
        "iris = load_iris()\n",
        "df = pd.DataFrame(data=iris.data, columns=iris.feature_names)\n",
        "df['target'] = iris.target\n",
        "\n",
        "\n",
        "features = df.drop(\"target\", axis=1)\n",
        "labels = df[\"target\"]\n",
        "X_train, X_test, y_train, y_test = train_test_split(features, labels, test_size=0.2, random_state=42)\n",
        "\n",
        "\n",
        "logreg = LogisticRegression()\n",
        "logreg.fit(X_train, y_train)\n",
        "\n",
        "\n",
        "y_pred = logreg.predict(X_test)\n",
        "\n",
        "\n",
        "accuracy = accuracy_score(y_test, y_pred)\n",
        "print(\"Precisión del modelo de regresión logística:\", accuracy)\n"
      ],
      "metadata": {
        "colab": {
          "base_uri": "https://localhost:8080/"
        },
        "id": "_RmdXZ6dGqmQ",
        "outputId": "ac1a68ef-7d6a-4b65-e13f-0f4ddfb65e6a"
      },
      "execution_count": null,
      "outputs": [
        {
          "output_type": "stream",
          "name": "stdout",
          "text": [
            "Precisión del modelo de regresión logística: 1.0\n"
          ]
        },
        {
          "output_type": "stream",
          "name": "stderr",
          "text": [
            "/usr/local/lib/python3.10/dist-packages/sklearn/linear_model/_logistic.py:458: ConvergenceWarning: lbfgs failed to converge (status=1):\n",
            "STOP: TOTAL NO. of ITERATIONS REACHED LIMIT.\n",
            "\n",
            "Increase the number of iterations (max_iter) or scale the data as shown in:\n",
            "    https://scikit-learn.org/stable/modules/preprocessing.html\n",
            "Please also refer to the documentation for alternative solver options:\n",
            "    https://scikit-learn.org/stable/modules/linear_model.html#logistic-regression\n",
            "  n_iter_i = _check_optimize_result(\n"
          ]
        }
      ]
    },
    {
      "cell_type": "markdown",
      "source": [
        "Explicacion de resultado: El resultado \"Precisión del modelo de regresión logística: 1.0\" indica que el modelo de regresión logística utilizado ha logrado una precisión del 100%. Esto significa que el modelo ha predicho correctamente todas las instancias en el conjunto de datos utilizado.\n",
        "\n",
        "Sin embargo, también se muestra una advertencia de convergencia: \"lbfgs failed to converge (status=1)\". Esta advertencia indica que el algoritmo de optimización utilizado para ajustar los parámetros del modelo no pudo converger debido a que alcanzó el límite máximo de iteraciones permitidas."
      ],
      "metadata": {
        "id": "pjjkakVZ7Rl-"
      }
    }
  ]
}