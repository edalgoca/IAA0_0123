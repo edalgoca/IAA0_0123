{
  "nbformat": 4,
  "nbformat_minor": 0,
  "metadata": {
    "colab": {
      "private_outputs": true,
      "provenance": []
    },
    "kernelspec": {
      "name": "python3",
      "display_name": "Python 3"
    },
    "language_info": {
      "name": "python"
    }
  },
  "cells": [
    {
      "cell_type": "markdown",
      "source": [
        "**3. Algoritmos de redes neuronales**"
      ],
      "metadata": {
        "id": "c0lHjaKre22b"
      }
    },
    {
      "cell_type": "markdown",
      "source": [
        "**En que Consiste el Algoritmo:**  En un conjunto de reglas y instruciones para poder realizar \n",
        "calculos para el ajuste de los pesos en una red\n",
        "neuronal el cual podria ser de inicializacion  segun el\n",
        "numero de capas y la cantidad  de neurona en cada capa, asigando valores de peso\n",
        "aleatorios y tambien de ajustes y refinamiento. "
      ],
      "metadata": {
        "id": "hW0MEv97fHmC"
      }
    },
    {
      "cell_type": "markdown",
      "source": [
        "**Explicación de resultados:**  El código carga el conjunto de datos MNIST, \n",
        "normaliza los valores de píxel \n",
        "y luego carga un modelo MLP previamente \n",
        "entrenado. Extrae los pesos de la primera capa oculta,\n",
        "los remodela para que coincidan con el tamaño \n",
        "de las imágenes de entrada y, finalmente, \n",
        "traza los pesos mediante una cuadrícula de subgráficos."
      ],
      "metadata": {
        "id": "1VFjOhkPiI2K"
      }
    },
    {
      "cell_type": "markdown",
      "source": [
        "**DataSet:**  sklearn.datasets.fetch_openml (# Load data from https://www.openml.org/d/554)"
      ],
      "metadata": {
        "id": "Bq7brKUbj3RS"
      }
    },
    {
      "cell_type": "code",
      "source": [
        "import warnings\n",
        "import matplotlib.pyplot as plt\n",
        "from sklearn.datasets import fetch_openml\n",
        "from sklearn.exceptions import ConvergenceWarning\n",
        "from sklearn.neural_network import MLPClassifier\n",
        "from sklearn.model_selection import train_test_split\n",
        "\n",
        "\n",
        "X, y = fetch_openml(\n",
        "    \"mnist_784\", version=1, return_X_y=True, as_frame=False, parser=\"pandas\"\n",
        ")\n",
        "X = X / 255.0\n",
        "\n",
        "X_train, X_test, y_train, y_test = train_test_split(X, y, random_state=0, test_size=0.7)\n",
        "\n",
        "mlp = MLPClassifier(\n",
        "    hidden_layer_sizes=(40,),\n",
        "    max_iter=8,\n",
        "    alpha=1e-4,\n",
        "    solver=\"sgd\",\n",
        "    verbose=10,\n",
        "    random_state=1,\n",
        "    learning_rate_init=0.2,\n",
        ")\n",
        "\n",
        "with warnings.catch_warnings():\n",
        "    warnings.filterwarnings(\"ignore\", category=ConvergenceWarning, module=\"sklearn\")\n",
        "    mlp.fit(X_train, y_train)\n",
        "\n",
        "print(\"Training set score: %f\" % mlp.score(X_train, y_train))\n",
        "print(\"Test set score: %f\" % mlp.score(X_test, y_test))\n",
        "\n",
        "fig, axes = plt.subplots(4, 4)\n",
        "\n",
        "vmin, vmax = mlp.coefs_[0].min(), mlp.coefs_[0].max()\n",
        "for coef, ax in zip(mlp.coefs_[0].T, axes.ravel()):\n",
        "    ax.matshow(coef.reshape(28, 28), cmap=plt.cm.gray, vmin=0.5 * vmin, vmax=0.5 * vmax)\n",
        "    ax.set_xticks(())\n",
        "    ax.set_yticks(())\n",
        "\n",
        "plt.show()"
      ],
      "metadata": {
        "id": "FIc4VK2ryNiz"
      },
      "execution_count": null,
      "outputs": []
    }
  ]
}