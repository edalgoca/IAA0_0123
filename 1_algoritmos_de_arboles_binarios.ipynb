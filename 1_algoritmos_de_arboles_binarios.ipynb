{
  "nbformat": 4,
  "nbformat_minor": 0,
  "metadata": {
    "colab": {
      "provenance": []
    },
    "kernelspec": {
      "name": "python3",
      "display_name": "Python 3"
    },
    "language_info": {
      "name": "python"
    }
  },
  "cells": [
    {
      "cell_type": "markdown",
      "source": [
        "En que consiste el algoritmo: El algoritmo de árboles binarios se utiliza para agregar, buscar y eliminar nodos en un árbol jerárquico donde cada nodo tiene, como máximo, dos hijos. También se pueden realizar recorridos y balanceo del árbol para optimizar su estructura."
      ],
      "metadata": {
        "id": "DQiAS7Fj5Eny"
      }
    },
    {
      "cell_type": "code",
      "source": [
        "import pandas as pd\n",
        "from sklearn.model_selection import train_test_split\n",
        "from sklearn.tree import DecisionTreeClassifier\n",
        "from sklearn.metrics import accuracy_score\n",
        "\n",
        "\n",
        "url = \"https://archive.ics.uci.edu/ml/machine-learning-databases/breast-cancer-wisconsin/wdbc.data\"\n",
        "column_names = [\n",
        "    \"id\", \"diagnosis\", \"radius_mean\", \"texture_mean\", \"perimeter_mean\", \"area_mean\",\n",
        "    \"smoothness_mean\", \"compactness_mean\", \"concavity_mean\", \"concave points_mean\",\n",
        "    \"symmetry_mean\", \"fractal_dimension_mean\", \"radius_se\", \"texture_se\", \"perimeter_se\",\n",
        "    \"area_se\", \"smoothness_se\", \"compactness_se\", \"concavity_se\", \"concave points_se\",\n",
        "    \"symmetry_se\", \"fractal_dimension_se\", \"radius_worst\", \"texture_worst\", \"perimeter_worst\",\n",
        "    \"area_worst\", \"smoothness_worst\", \"compactness_worst\", \"concavity_worst\", \"concave points_worst\",\n",
        "    \"symmetry_worst\", \"fractal_dimension_worst\"\n",
        "]\n",
        "data = pd.read_csv(url, names=column_names)\n",
        "\n",
        "\n",
        "features = data.drop([\"id\", \"diagnosis\"], axis=1)\n",
        "labels = data[\"diagnosis\"]\n",
        "X_train, X_test, y_train, y_test = train_test_split(features, labels, test_size=0.2, random_state=42)\n",
        "\n",
        "\n",
        "tree = DecisionTreeClassifier()\n",
        "tree.fit(X_train, y_train)\n",
        "\n",
        "\n",
        "y_pred = tree.predict(X_test)\n",
        "\n",
        "\n",
        "accuracy = accuracy_score(y_test, y_pred)\n",
        "print(\"Precisión del modelo de árbol de decisión:\", accuracy)\n"
      ],
      "metadata": {
        "colab": {
          "base_uri": "https://localhost:8080/"
        },
        "id": "16QdFJfjDryn",
        "outputId": "28b20fab-4693-4fed-ee2d-a0f7507d88b4"
      },
      "execution_count": null,
      "outputs": [
        {
          "output_type": "stream",
          "name": "stdout",
          "text": [
            "Precisión del modelo de árbol de decisión: 0.9473684210526315\n"
          ]
        }
      ]
    },
    {
      "cell_type": "markdown",
      "source": [
        "Explicación de resultado:\n",
        "El resultado \"Precisión del modelo de árbol de decisión: 0.9473684210526315\" indica que el modelo de árbol de decisión utilizado ha logrado una precisión del 94.74%. Este resultado se obtuvo al evaluar el modelo utilizando un conjunto de datos específico, que se encuentra en la siguiente URL: \"https://archive.ics.uci.edu/ml/machine-learning-databases/breast-cancer-wisconsin/wdbc.data\".\n",
        "\n",
        "El conjunto de datos en cuestión es conocido como el conjunto de datos de cáncer de mama de Wisconsin (WDBC). Proporciona información sobre características clínicas y de células obtenidas de imágenes digitalizadas de muestras de aspiración con aguja fina (FNA) de nódulos mamarios. Cada muestra se clasifica en una de las dos clases: maligna (M) o benigna (B).\n",
        "\n",
        "El modelo de árbol de decisión se entrenó utilizando este conjunto de datos, donde se utilizan las características disponibles para predecir la clase del nódulo mamario (maligno o benigno). La precisión del 94.74% indica que el modelo ha logrado predecir correctamente la clase de la mayoría de las muestras en el conjunto de datos, lo que sugiere un buen rendimiento en la clasificación del cáncer de mama en base a las características proporcionadas.\n"
      ],
      "metadata": {
        "id": "25yHhGCa6h4m"
      }
    }
  ]
}