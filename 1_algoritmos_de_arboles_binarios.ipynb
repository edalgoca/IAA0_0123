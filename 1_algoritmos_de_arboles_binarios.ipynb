{
  "nbformat": 4,
  "nbformat_minor": 0,
  "metadata": {
    "colab": {
      "private_outputs": true,
      "provenance": []
    },
    "kernelspec": {
      "name": "python3",
      "display_name": "Python 3"
    },
    "language_info": {
      "name": "python"
    }
  },
  "cells": [
    {
      "cell_type": "markdown",
      "source": [
        "**1. Algoritmos de arboles binarios**"
      ],
      "metadata": {
        "id": "c0lHjaKre22b"
      }
    },
    {
      "cell_type": "markdown",
      "source": [
        "**En que Consiste el Algoritmo:**  En una estructura de arboles binarios supervisado de aprendizaje, en donde cada nodo representa una característica o atributo del conjunto de datos y las ramas representan las posibles combinaciones de valores que puede tomar esa característica."
      ],
      "metadata": {
        "id": "hW0MEv97fHmC"
      }
    },
    {
      "cell_type": "markdown",
      "source": [
        "**Explicación de resultados:** \n",
        "El algoritmo va formado en nodo de acuerdo  ala combinacion de valores y caracteristicas va formando padres e hijos de acuerdo a las clase en el ejemplo ultimo podemos ver el comporatamiento bianrio de acuerdo a la clase setosa, versicolor y virginica colocando su valor en los arreglos y asi sucesivamente va formando su estructura jerárquica."
      ],
      "metadata": {
        "id": "1VFjOhkPiI2K"
      }
    },
    {
      "cell_type": "markdown",
      "source": [
        "**DataSet:**  load_iris(*[, devuelve_X_y, como_fotograma])\n",
        "Conjunto de datos pequeños que no requiere descarga"
      ],
      "metadata": {
        "id": "Bq7brKUbj3RS"
      }
    },
    {
      "cell_type": "code",
      "source": [
        "pip install graphviz"
      ],
      "metadata": {
        "id": "vFUEdOX3dNyC"
      },
      "execution_count": null,
      "outputs": []
    },
    {
      "cell_type": "code",
      "source": [
        "from sklearn import tree\n",
        "X = [[0, 0], [1, 1]]\n",
        "Y = [0, 1]\n",
        "clf = tree.DecisionTreeClassifier()\n",
        "clf = clf.fit(X, Y)"
      ],
      "metadata": {
        "id": "XNgfwF4LdSx5"
      },
      "execution_count": null,
      "outputs": []
    },
    {
      "cell_type": "code",
      "source": [
        " clf.predict([[2., 2.]])\n"
      ],
      "metadata": {
        "id": "WvYJC3sddWIi"
      },
      "execution_count": null,
      "outputs": []
    },
    {
      "cell_type": "code",
      "source": [
        " clf.predict_proba([[2., 2.]])"
      ],
      "metadata": {
        "id": "sbncggHbdYYz"
      },
      "execution_count": null,
      "outputs": []
    },
    {
      "cell_type": "code",
      "source": [
        " from sklearn.datasets import load_iris\n",
        " from sklearn import tree\n",
        " iris = load_iris()\n",
        " X, y = iris.data, iris.target\n",
        " clf = tree.DecisionTreeClassifier()\n",
        " clf = clf.fit(X, y)"
      ],
      "metadata": {
        "id": "VSRuhDjmdbHj"
      },
      "execution_count": null,
      "outputs": []
    },
    {
      "cell_type": "code",
      "source": [
        " tree.plot_tree(clf)"
      ],
      "metadata": {
        "id": "U_wbaQLtdfIp"
      },
      "execution_count": null,
      "outputs": []
    },
    {
      "cell_type": "code",
      "source": [
        " import graphviz \n",
        " dot_data = tree.export_graphviz(clf, out_file=None) \n",
        " graph = graphviz.Source(dot_data) \n",
        " graph.render(\"iris\") "
      ],
      "metadata": {
        "id": "CubOP3R8dihz"
      },
      "execution_count": null,
      "outputs": []
    },
    {
      "cell_type": "code",
      "source": [
        " dot_data = tree.export_graphviz(clf, out_file=None, \n",
        "feature_names=iris.feature_names,  \n",
        "class_names=iris.target_names,  \n",
        "filled=True, rounded=True,  \n",
        "special_characters=True)  \n",
        "graph = graphviz.Source(dot_data)  \n",
        " graph "
      ],
      "metadata": {
        "id": "SW4Sy83bdl75"
      },
      "execution_count": null,
      "outputs": []
    }
  ]
}